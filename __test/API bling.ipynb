{
 "cells": [
  {
   "cell_type": "code",
   "execution_count": 9,
   "id": "8d06f8a5",
   "metadata": {},
   "outputs": [],
   "source": [
    "import requests\n",
    "import pandas as pd\n",
    "\n",
    "class Bling:\n",
    "\n",
    "    def apikey(self):\n",
    "        return str(\"d4a1fc2cdb7bc18dbb931e87801b8baa9d3fd41eecfd896a8699e18f861ccffd00ec7709\")\n",
    "\n",
    "    def busca_coluna(self, codigo):\n",
    "        url = f'https://bling.com.br/Api/v2/produto/{codigo}/json/'\n",
    "        payload = {'apikey': self.apikey(),\n",
    "                   'imagem': 'S'}\n",
    "\n",
    "        produto = requests.get(url, params=payload).json()\n",
    "        return produto['retorno']['produtos'][0]['produto']\n",
    "\n",
    "    def guardar_informações_em_um_dataframe(self, codigo):\n",
    "        \n",
    "        idnt = next(item for keys, item in self.busca_coluna(codigo).items() if keys == 'id')\n",
    "\n",
    "        codigo = next(item for keys, item in self.busca_coluna(codigo).items() if keys == 'codigo')\n",
    "\n",
    "        preco = next(item for keys, item in self.busca_coluna(codigo).items() if keys == 'preco')\n",
    "\n",
    "        df = pd.DataFrame({\n",
    "\n",
    "            'id': [idnt],\n",
    "            'codigo': codigo,\n",
    "            'preco': preco,\n",
    "        })\n",
    "\n",
    "        return df"
   ]
  },
  {
   "cell_type": "code",
   "execution_count": null,
   "id": "391c1139",
   "metadata": {},
   "outputs": [],
   "source": [
    "curl -X GET \"https://bling.com.br/Api/v2/produtos/json/\"\n",
    "     -G\n",
    "     -d \"apikey={apikey}\" "
   ]
  },
  {
   "cell_type": "code",
   "execution_count": 2,
   "id": "4ad76b24",
   "metadata": {},
   "outputs": [],
   "source": [
    "from time import sleep\n",
    "import requests\n",
    "import json"
   ]
  },
  {
   "cell_type": "code",
   "execution_count": 105,
   "id": "4c7f2c01",
   "metadata": {},
   "outputs": [
    {
     "name": "stdout",
     "output_type": "stream",
     "text": [
      "{'retorno': {'erros': [{'erro': {'cod': 14, 'msg': 'A informacao desejada nao foi encontrada'}}]}}\n"
     ]
    }
   ],
   "source": [
    "apikey = \"d4a1fc2cdb7bc18dbb931e87801b8baa9d3fd41eecfd896a8699e18f861ccffd00ec7709\"\n",
    "url = f\"https://bling.com.br/Api/v2/produtos/page={page}/json/\"\n",
    "payload = {'apikey': apikey,'estoque': 'S'}\n",
    "retorno = requests.get(url, params=payload).json()\n",
    "print(retorno)"
   ]
  },
  {
   "cell_type": "code",
   "execution_count": null,
   "id": "9afbe147",
   "metadata": {},
   "outputs": [
    {
     "name": "stdout",
     "output_type": "stream",
     "text": [
      "1\n",
      "ok\n",
      "1\n",
      "ok\n",
      "1\n",
      "ok\n",
      "1\n",
      "ok\n",
      "1\n"
     ]
    },
    {
     "name": "stderr",
     "output_type": "stream",
     "text": [
      "\n",
      "KeyboardInterrupt\n",
      "\n"
     ]
    }
   ],
   "source": [
    "paginas_para_percorrer = True\n",
    "page = 1\n",
    "while paginas_para_percorrer:\n",
    "    \n",
    "    print(page)\n",
    "    \n",
    "    apikey = \"d4a1fc2cdb7bc18dbb931e87801b8baa9d3fd41eecfd896a8699e18f861ccffd00ec7709\"\n",
    "    url = f\"https://bling.com.br/Api/v2/produtos/page={page}/json/\"\n",
    "    payload = {'apikey': apikey,'estoque': 'S'}\n",
    "    retorno = requests.get(url, params=payload)#.json()\n",
    "    \n",
    "    if retorno.status_code == 200:\n",
    "        print('ok')\n",
    "    else:\n",
    "        print('bad')\n",
    "\n",
    "#     try:\n",
    "#         erro = retorno.get('retorno').get('erros')[0].get('erro').get('cod')\n",
    "#         if erro == 14:\n",
    "#             break\n",
    "#         if erro == 18:\n",
    "\n",
    "#             sleep(5)\n",
    "            \n",
    "#             url = f\"https://bling.com.br/Api/v2/produtos/page={page}/json/\"\n",
    "#             payload = {'apikey': apikey,'estoque': 'S'}\n",
    "#             retorno = requests.get(url, params=payload).json()\n",
    "#     except:\n",
    "#         pass\n",
    "    \n",
    "#     produto = retorno['retorno']['produtos'][0]\n",
    "\n",
    "#     codigo = [item for keys, item in produto.items()][0].get('codigo')\n",
    "#     preco = [item for keys, item in produto.items()][0].get('preco')\n",
    "\n",
    "#     print('codigo:',codigo)\n",
    "#     print('preco:', preco)\n",
    "    \n",
    "#     page += 1"
   ]
  },
  {
   "cell_type": "code",
   "execution_count": 46,
   "id": "18bb8556",
   "metadata": {},
   "outputs": [],
   "source": [
    "teste = {'retorno': {'erros': [{'erro': {'cod': 14, 'msg': 'A informacao desejada nao foi encontrada'}}]}}"
   ]
  },
  {
   "cell_type": "code",
   "execution_count": 52,
   "id": "1a2678b3",
   "metadata": {},
   "outputs": [
    {
     "data": {
      "text/plain": [
       "14"
      ]
     },
     "execution_count": 52,
     "metadata": {},
     "output_type": "execute_result"
    }
   ],
   "source": [
    "teste.get('retorno').get('erros')[0].get('erro').get('cod')"
   ]
  },
  {
   "cell_type": "code",
   "execution_count": null,
   "id": "c169df0f",
   "metadata": {},
   "outputs": [],
   "source": []
  },
  {
   "cell_type": "code",
   "execution_count": null,
   "id": "baa1174b",
   "metadata": {},
   "outputs": [],
   "source": []
  },
  {
   "cell_type": "code",
   "execution_count": null,
   "id": "75ab8510",
   "metadata": {},
   "outputs": [],
   "source": []
  },
  {
   "cell_type": "code",
   "execution_count": null,
   "id": "7f4c7721",
   "metadata": {},
   "outputs": [],
   "source": []
  },
  {
   "cell_type": "code",
   "execution_count": null,
   "id": "6ff4c756",
   "metadata": {},
   "outputs": [],
   "source": []
  }
 ],
 "metadata": {
  "kernelspec": {
   "display_name": "Python 3 (ipykernel)",
   "language": "python",
   "name": "python3"
  },
  "language_info": {
   "codemirror_mode": {
    "name": "ipython",
    "version": 3
   },
   "file_extension": ".py",
   "mimetype": "text/x-python",
   "name": "python",
   "nbconvert_exporter": "python",
   "pygments_lexer": "ipython3",
   "version": "3.8.10"
  }
 },
 "nbformat": 4,
 "nbformat_minor": 5
}
