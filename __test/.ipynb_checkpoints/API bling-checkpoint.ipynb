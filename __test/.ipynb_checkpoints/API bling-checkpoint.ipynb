{
 "cells": [
  {
   "cell_type": "code",
   "execution_count": 9,
   "id": "8d06f8a5",
   "metadata": {},
   "outputs": [],
   "source": [
    "import requests\n",
    "import pandas as pd\n",
    "\n",
    "class Bling:\n",
    "\n",
    "    def apikey(self):\n",
    "        return str(\"77a476085de43cb8fdd2df7890e7fed3c1ac626e4d0cf94a4473ca6c43842266aecc4567\")\n",
    "\n",
    "    def busca_coluna(self, codigo):\n",
    "        url = f'https://bling.com.br/Api/v2/produto/{codigo}/json/'\n",
    "        payload = {'apikey': self.apikey(),\n",
    "                   'imagem': 'S'}\n",
    "\n",
    "        produto = requests.get(url, params=payload).json()\n",
    "        return produto['retorno']['produtos'][0]['produto']\n",
    "\n",
    "    def guardar_informações_em_um_dataframe(self, codigo):\n",
    "        \n",
    "        idnt = next(item for keys, item in self.busca_coluna(codigo).items() if keys == 'id')\n",
    "\n",
    "        codigo = next(item for keys, item in self.busca_coluna(codigo).items() if keys == 'codigo')\n",
    "\n",
    "        preco = next(item for keys, item in self.busca_coluna(codigo).items() if keys == 'preco')\n",
    "\n",
    "        df = pd.DataFrame({\n",
    "\n",
    "            'id': [idnt],\n",
    "            'codigo': codigo,\n",
    "            'preco': preco,\n",
    "        })\n",
    "\n",
    "        return df"
   ]
  },
  {
   "cell_type": "code",
   "execution_count": null,
   "id": "6ff4c756",
   "metadata": {},
   "outputs": [],
   "source": []
  }
 ],
 "metadata": {
  "kernelspec": {
   "display_name": "Python 3 (ipykernel)",
   "language": "python",
   "name": "python3"
  },
  "language_info": {
   "codemirror_mode": {
    "name": "ipython",
    "version": 3
   },
   "file_extension": ".py",
   "mimetype": "text/x-python",
   "name": "python",
   "nbconvert_exporter": "python",
   "pygments_lexer": "ipython3",
   "version": "3.8.10"
  }
 },
 "nbformat": 4,
 "nbformat_minor": 5
}
