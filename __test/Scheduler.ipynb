{
 "cells": [
  {
   "cell_type": "code",
   "execution_count": 23,
   "id": "98525bcc",
   "metadata": {},
   "outputs": [
    {
     "data": {
      "text/plain": [
       "<Job (id=2d723e73f17544f58fa7ff1f450f2449 name=hello)>"
      ]
     },
     "execution_count": 23,
     "metadata": {},
     "output_type": "execute_result"
    },
    {
     "name": "stdout",
     "output_type": "stream",
     "text": [
      "rodando...\n",
      "rodando...\n",
      "rodando...\n",
      "rodando...\n"
     ]
    }
   ],
   "source": [
    "from apscheduler.schedulers.background import BackgroundScheduler  \n",
    "\n",
    "def hello():\n",
    "    print('rodando...')\n",
    "    return None\n",
    "\n",
    "scheduler = BackgroundScheduler()\n",
    "scheduler.start()\n",
    "scheduler.add_job(hello, 'interval', seconds=1.5)"
   ]
  },
  {
   "cell_type": "code",
   "execution_count": 24,
   "id": "7651c126",
   "metadata": {},
   "outputs": [],
   "source": [
    "scheduler.shutdown()"
   ]
  },
  {
   "cell_type": "code",
   "execution_count": null,
   "id": "68357c37",
   "metadata": {},
   "outputs": [],
   "source": []
  },
  {
   "cell_type": "code",
   "execution_count": null,
   "id": "8dabe797",
   "metadata": {},
   "outputs": [],
   "source": []
  },
  {
   "cell_type": "code",
   "execution_count": null,
   "id": "02bfae20",
   "metadata": {},
   "outputs": [],
   "source": []
  }
 ],
 "metadata": {
  "kernelspec": {
   "display_name": "Python 3 (ipykernel)",
   "language": "python",
   "name": "python3"
  },
  "language_info": {
   "codemirror_mode": {
    "name": "ipython",
    "version": 3
   },
   "file_extension": ".py",
   "mimetype": "text/x-python",
   "name": "python",
   "nbconvert_exporter": "python",
   "pygments_lexer": "ipython3",
   "version": "3.8.10"
  }
 },
 "nbformat": 4,
 "nbformat_minor": 5
}
